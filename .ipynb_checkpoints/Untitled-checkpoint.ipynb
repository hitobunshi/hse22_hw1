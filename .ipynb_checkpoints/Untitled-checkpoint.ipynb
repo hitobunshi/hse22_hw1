{
 "cells": [
  {
   "cell_type": "code",
   "execution_count": 1,
   "id": "9c94bf67",
   "metadata": {},
   "outputs": [],
   "source": [
    "import re\n",
    "\n",
    "def analyze(file):\n",
    "    lengths = []\n",
    "    cur_length = 0\n",
    "    max_length = 0\n",
    "\n",
    "    cur_seq = ''\n",
    "    max_seq = ''\n",
    "\n",
    "    num_seqs = 0\n",
    "\n",
    "    for line in file:\n",
    "        if line[0] == '>':\n",
    "            num_seqs += 1\n",
    "\n",
    "            if num_seqs != 1:\n",
    "                lengths.append(length)\n",
    "\n",
    "            if length > max_length:\n",
    "                max_length = length\n",
    "                max_seq = cur_seq\n",
    "\n",
    "            cur_seq = ''\n",
    "            length = 0\n",
    "\n",
    "        else:\n",
    "            cur_seq += line.strip()\n",
    "            length += len(line.strip())\n",
    "\n",
    "    if cur_length > 0:\n",
    "        lengths.append(length)\n",
    "        if length > max_length:\n",
    "            max_length = length\n",
    "            max_seq = cur_seq\n",
    "\n",
    "    total_length = sum(lengths)\n",
    "\n",
    "    n50_score = 0\n",
    "    n50 = 0\n",
    "    lengths.sort(reverse=True)\n",
    "    for length in lengths:\n",
    "        n50_score += length\n",
    "        if n50_score >= total_length / 2:\n",
    "            n50 = length\n",
    "            break\n",
    "            \n",
    "    return num_seqs, total_length, n50, max_length, max_seq\n",
    "\n",
    "\n",
    "def print_info(num_seqs, total_length, n50, max_length, max_seq):\n",
    "    print('Общее кол-во:', num_seqs)\n",
    "    print('Общая длина:', total_length)\n",
    "    print('Наибольшая длина:', max_length)\n",
    "    print('N50:', n50)\n",
    "    \n",
    "\n",
    "def print_gap_info(num_seqs, total_length, n50, max_length, max_seq):\n",
    "    print('Общая длина гэпов:', max_seq.count('N'))\n",
    "    re.sub(r'N{2,}', 'N', max_seq)\n",
    "    print('Количество гэпов:', max_seq.count('N'))"
   ]
  },
  {
   "cell_type": "code",
   "execution_count": 2,
   "id": "8b04e3eb",
   "metadata": {},
   "outputs": [
    {
     "ename": "FileNotFoundError",
     "evalue": "[Errno 2] No such file or directory: '../data/contigs.fasta'",
     "output_type": "error",
     "traceback": [
      "\u001b[0;31m---------------------------------------------------------------------------\u001b[0m",
      "\u001b[0;31mFileNotFoundError\u001b[0m                         Traceback (most recent call last)",
      "Cell \u001b[0;32mIn [2], line 1\u001b[0m\n\u001b[0;32m----> 1\u001b[0m \u001b[38;5;28;01mwith\u001b[39;00m \u001b[38;5;28;43mopen\u001b[39;49m\u001b[43m(\u001b[49m\u001b[38;5;124;43m'\u001b[39;49m\u001b[38;5;124;43m../data/contigs.fasta\u001b[39;49m\u001b[38;5;124;43m'\u001b[39;49m\u001b[43m)\u001b[49m \u001b[38;5;28;01mas\u001b[39;00m file:\n\u001b[1;32m      2\u001b[0m     res \u001b[38;5;241m=\u001b[39m analyze(file)\n\u001b[1;32m      3\u001b[0m     print_info(\u001b[38;5;241m*\u001b[39mres)\n",
      "\u001b[0;31mFileNotFoundError\u001b[0m: [Errno 2] No such file or directory: '../data/contigs.fasta'"
     ]
    }
   ],
   "source": [
    "with open('../data/contigs.fasta') as file:\n",
    "    res = analyze(file)\n",
    "    print_info(*res)\n",
    "\n",
    "with open('../data/scaffolds.fasta') as file:\n",
    "    res = analyze(file)\n",
    "    print_info(*res)\n",
    "    print_gap_info(*res)"
   ]
  },
  {
   "cell_type": "code",
   "execution_count": null,
   "id": "912df74d",
   "metadata": {},
   "outputs": [],
   "source": []
  }
 ],
 "metadata": {
  "kernelspec": {
   "display_name": "Python 3 (ipykernel)",
   "language": "python",
   "name": "python3"
  },
  "language_info": {
   "codemirror_mode": {
    "name": "ipython",
    "version": 3
   },
   "file_extension": ".py",
   "mimetype": "text/x-python",
   "name": "python",
   "nbconvert_exporter": "python",
   "pygments_lexer": "ipython3",
   "version": "3.10.6"
  }
 },
 "nbformat": 4,
 "nbformat_minor": 5
}
